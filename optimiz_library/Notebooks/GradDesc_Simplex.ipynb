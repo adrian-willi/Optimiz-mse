{
 "cells": [
  {
   "cell_type": "code",
   "execution_count": 1,
   "id": "c72b7ec6-97d8-4c55-bd9c-f7498dda5083",
   "metadata": {},
   "outputs": [],
   "source": [
    "%load_ext autoreload\n",
    "%autoreload 2"
   ]
  },
  {
   "cell_type": "code",
   "execution_count": 2,
   "id": "11c143d6-f038-4273-a60c-5c84c5ca1d46",
   "metadata": {},
   "outputs": [],
   "source": [
    "import numpy as np\n",
    "from scripts.Simplex import Simplex\n",
    "from sympy import *"
   ]
  },
  {
   "cell_type": "markdown",
   "id": "60d6bf26-f5e0-4a0c-9c3a-ea625a29ca4f",
   "metadata": {
    "tags": []
   },
   "source": [
    "# Simplex"
   ]
  },
  {
   "cell_type": "code",
   "execution_count": 3,
   "id": "08344384-429d-4d9b-8ad9-aee64840392c",
   "metadata": {},
   "outputs": [
    {
     "data": {
      "text/markdown": [
       "# Iteration 1"
      ],
      "text/plain": [
       "<IPython.core.display.Markdown object>"
      ]
     },
     "metadata": {},
     "output_type": "display_data"
    },
    {
     "data": {
      "text/latex": [
       "Base selection is $ \\left[\\begin{matrix}1\\\\2\\end{matrix}\\right] $ because this hyperplanes are intersect with $ \\left[\\begin{matrix}2 & 3\\end{matrix}\\right] $"
      ],
      "text/plain": [
       "<IPython.core.display.Latex object>"
      ]
     },
     "metadata": {},
     "output_type": "display_data"
    },
    {
     "data": {
      "text/markdown": [
       "## Step 1"
      ],
      "text/plain": [
       "<IPython.core.display.Markdown object>"
      ]
     },
     "metadata": {},
     "output_type": "display_data"
    },
    {
     "data": {
      "text/latex": [
       "$$ v: \\left[\\begin{matrix}2.0\\\\3.0\\end{matrix}\\right] $$"
      ],
      "text/plain": [
       "<IPython.core.display.Latex object>"
      ]
     },
     "metadata": {},
     "output_type": "display_data"
    },
    {
     "data": {
      "text/latex": [
       "Base selection : $ \n",
       "\\left[\\begin{matrix}1\\\\2\\end{matrix}\\right] $"
      ],
      "text/plain": [
       "<IPython.core.display.Latex object>"
      ]
     },
     "metadata": {},
     "output_type": "display_data"
    },
    {
     "data": {
      "text/latex": [
       "$\\displaystyle A_B : \\left[\\begin{matrix}-1 & 1\\\\1 & 2\\end{matrix}\\right]$"
      ],
      "text/plain": [
       "<IPython.core.display.Math object>"
      ]
     },
     "metadata": {},
     "output_type": "display_data"
    },
    {
     "data": {
      "text/latex": [
       "$$ A_B^{−1}: \\left[\\begin{matrix}-0.667 & 0.333\\\\0.333 & 0.333\\end{matrix}\\right] $$"
      ],
      "text/plain": [
       "<IPython.core.display.Latex object>"
      ]
     },
     "metadata": {},
     "output_type": "display_data"
    },
    {
     "data": {
      "text/markdown": [
       "## Step 2"
      ],
      "text/plain": [
       "<IPython.core.display.Markdown object>"
      ]
     },
     "metadata": {},
     "output_type": "display_data"
    },
    {
     "data": {
      "text/latex": [
       "$$ u = c*A_B^{-1} = \\left[\\begin{matrix}-1.0 & 1.0\\end{matrix}\\right] = \\left[\\begin{matrix}2 & 1\\end{matrix}\\right] * \\left[\\begin{matrix}-0.667 & 0.333\\\\0.333 & 0.333\\end{matrix}\\right] $$"
      ],
      "text/plain": [
       "<IPython.core.display.Latex object>"
      ]
     },
     "metadata": {},
     "output_type": "display_data"
    },
    {
     "data": {
      "text/markdown": [
       "## Step 3"
      ],
      "text/plain": [
       "<IPython.core.display.Markdown object>"
      ]
     },
     "metadata": {},
     "output_type": "display_data"
    },
    {
     "data": {
      "text/latex": [
       "Not all $ u $ are bigger than $ 0 $"
      ],
      "text/plain": [
       "<IPython.core.display.Latex object>"
      ]
     },
     "metadata": {},
     "output_type": "display_data"
    },
    {
     "data": {
      "text/latex": [
       "$ u >= 0 $"
      ],
      "text/plain": [
       "<IPython.core.display.Latex object>"
      ]
     },
     "metadata": {},
     "output_type": "display_data"
    },
    {
     "data": {
      "text/latex": [
       "Continue with next step"
      ],
      "text/plain": [
       "<IPython.core.display.Latex object>"
      ]
     },
     "metadata": {},
     "output_type": "display_data"
    },
    {
     "data": {
      "text/markdown": [
       "## Step 4, getting index with smallest column value"
      ],
      "text/plain": [
       "<IPython.core.display.Markdown object>"
      ]
     },
     "metadata": {},
     "output_type": "display_data"
    },
    {
     "data": {
      "text/latex": [
       "$ \\left[\\begin{matrix}-1.0 & 1.0\\end{matrix}\\right] $"
      ],
      "text/plain": [
       "<IPython.core.display.Latex object>"
      ]
     },
     "metadata": {},
     "output_type": "display_data"
    },
    {
     "data": {
      "text/latex": [
       "Min value is 1, leaving hyperplane with index 1"
      ],
      "text/plain": [
       "<IPython.core.display.Latex object>"
      ]
     },
     "metadata": {},
     "output_type": "display_data"
    },
    {
     "data": {
      "text/markdown": [
       "## Step 5 - get direction"
      ],
      "text/plain": [
       "<IPython.core.display.Markdown object>"
      ]
     },
     "metadata": {},
     "output_type": "display_data"
    },
    {
     "data": {
      "text/latex": [
       "$$ d = - A_{B}^{-1} $$"
      ],
      "text/plain": [
       "<IPython.core.display.Latex object>"
      ]
     },
     "metadata": {},
     "output_type": "display_data"
    },
    {
     "data": {
      "text/latex": [
       "$ A_B^{-1}: \\left[\\begin{matrix}-0.667 & 0.333\\\\0.333 & 0.333\\end{matrix}\\right] $ - get column with index 1"
      ],
      "text/plain": [
       "<IPython.core.display.Latex object>"
      ]
     },
     "metadata": {},
     "output_type": "display_data"
    },
    {
     "data": {
      "text/latex": [
       "Column 1 $ \\left[\\begin{matrix}-0.667\\\\0.333\\end{matrix}\\right] $"
      ],
      "text/plain": [
       "<IPython.core.display.Latex object>"
      ]
     },
     "metadata": {},
     "output_type": "display_data"
    },
    {
     "data": {
      "text/markdown": [
       "## Step 6"
      ],
      "text/plain": [
       "<IPython.core.display.Markdown object>"
      ]
     },
     "metadata": {},
     "output_type": "display_data"
    },
    {
     "data": {
      "text/latex": [
       "$ A*d = \\left[\\begin{matrix}-1.0\\\\0\\\\2.333\\\\-0.667\\\\0.333\\end{matrix}\\right]  = \\left[\\begin{matrix}-1 & 1\\\\1 & 2\\\\2 & -3\\\\-1 & 0\\\\0 & -1\\end{matrix}\\right] * \\left[\\begin{matrix}0.667\\\\-0.333\\end{matrix}\\right] $"
      ],
      "text/plain": [
       "<IPython.core.display.Latex object>"
      ]
     },
     "metadata": {},
     "output_type": "display_data"
    },
    {
     "data": {
      "text/latex": [
       "Found at least one positive value in $ A*d = \\left[\\begin{matrix}-1.0\\\\0\\\\2.333\\\\-0.667\\\\0.333\\end{matrix}\\right] $, continue"
      ],
      "text/plain": [
       "<IPython.core.display.Latex object>"
      ]
     },
     "metadata": {},
     "output_type": "display_data"
    },
    {
     "data": {
      "text/markdown": [
       "## Step 7"
      ],
      "text/plain": [
       "<IPython.core.display.Markdown object>"
      ]
     },
     "metadata": {},
     "output_type": "display_data"
    },
    {
     "data": {
      "text/latex": [
       "Searching for lambda."
      ],
      "text/plain": [
       "<IPython.core.display.Latex object>"
      ]
     },
     "metadata": {},
     "output_type": "display_data"
    },
    {
     "data": {
      "text/latex": [
       "$ Av * \\lambda Ad \\leq b $"
      ],
      "text/plain": [
       "<IPython.core.display.Latex object>"
      ]
     },
     "metadata": {},
     "output_type": "display_data"
    },
    {
     "data": {
      "text/latex": [
       "$ \\left[\\begin{matrix}-1 & 1\\\\1 & 2\\\\2 & -3\\\\-1 & 0\\\\0 & -1\\end{matrix}\\right]\\left[\\begin{matrix}2.0\\\\3.0\\end{matrix}\\right]  * \\lambda \\left[\\begin{matrix}-1 & 1\\\\1 & 2\\\\2 & -3\\\\-1 & 0\\\\0 & -1\\end{matrix}\\right]\\left[\\begin{matrix}0.667\\\\-0.333\\end{matrix}\\right] \\leq \\left[\\begin{matrix}1\\\\8\\\\2\\\\0\\\\0\\end{matrix}\\right] $"
      ],
      "text/plain": [
       "<IPython.core.display.Latex object>"
      ]
     },
     "metadata": {},
     "output_type": "display_data"
    },
    {
     "data": {
      "text/latex": [
       "$ \\left[\\begin{matrix}1.0\\\\8.0\\\\-5.0\\\\-2.0\\\\-3.0\\end{matrix}\\right]  * \\lambda \\left[\\begin{matrix}-1.0\\\\0\\\\2.333\\\\-0.667\\\\0.333\\end{matrix}\\right] \\leq \\left[\\begin{matrix}1\\\\8\\\\2\\\\0\\\\0\\end{matrix}\\right]$"
      ],
      "text/plain": [
       "<IPython.core.display.Latex object>"
      ]
     },
     "metadata": {},
     "output_type": "display_data"
    },
    {
     "data": {
      "text/latex": [
       "Evaluate columns with $ Ad = \\left[\\begin{matrix}-1.0\\\\0\\\\2.333\\\\-0.667\\\\0.333\\end{matrix}\\right] $ positive $ \\rightarrow \\left[\\begin{matrix}2 & 4\\end{matrix}\\right] $"
      ],
      "text/plain": [
       "<IPython.core.display.Latex object>"
      ]
     },
     "metadata": {},
     "output_type": "display_data"
    },
    {
     "data": {
      "text/latex": [
       "Evaluate row 3: $ \\frac{b^i - a^i v}{A_i d} = \\frac{7.0}{2.333} = {3.0}$"
      ],
      "text/plain": [
       "<IPython.core.display.Latex object>"
      ]
     },
     "metadata": {},
     "output_type": "display_data"
    },
    {
     "data": {
      "text/latex": [
       "Evaluate row 5: $ \\frac{b^i - a^i v}{A_i d} = \\frac{3.0}{0.333} = {9.0}$"
      ],
      "text/plain": [
       "<IPython.core.display.Latex object>"
      ]
     },
     "metadata": {},
     "output_type": "display_data"
    },
    {
     "data": {
      "text/latex": [
       "Taking smaller value $ \\lambda = 3.0 $ which has index $ k = 3 $"
      ],
      "text/plain": [
       "<IPython.core.display.Latex object>"
      ]
     },
     "metadata": {},
     "output_type": "display_data"
    },
    {
     "data": {
      "text/markdown": [
       "## Step 8"
      ],
      "text/plain": [
       "<IPython.core.display.Markdown object>"
      ]
     },
     "metadata": {},
     "output_type": "display_data"
    },
    {
     "data": {
      "text/latex": [
       "Test $ v = v + \\lambda d = \\left[\\begin{matrix}2.0\\\\3.0\\end{matrix}\\right] + 3.0 * \\left[\\begin{matrix}0.666666666666667\\\\-0.333333333333333\\end{matrix}\\right] = \\left[\\begin{matrix}2.0\\\\3.0\\end{matrix}\\right] + \\left[\\begin{matrix}2.0\\\\-1.0\\end{matrix}\\right] = \\left[\\begin{matrix}4.0\\\\2.0\\end{matrix}\\right] $"
      ],
      "text/plain": [
       "<IPython.core.display.Latex object>"
      ]
     },
     "metadata": {},
     "output_type": "display_data"
    },
    {
     "data": {
      "text/latex": [
       "Leaving now hyperplane $ H_1 $ and continue on hyperplane $ H_3 $"
      ],
      "text/plain": [
       "<IPython.core.display.Latex object>"
      ]
     },
     "metadata": {},
     "output_type": "display_data"
    },
    {
     "data": {
      "text/markdown": [
       "# Iteration 1"
      ],
      "text/plain": [
       "<IPython.core.display.Markdown object>"
      ]
     },
     "metadata": {},
     "output_type": "display_data"
    },
    {
     "data": {
      "text/latex": [
       "Base selection is $ \\left[\\begin{matrix}2\\\\3\\end{matrix}\\right] $ because this hyperplanes are intersect with $ \\left[\\begin{matrix}2 & 3\\end{matrix}\\right] $"
      ],
      "text/plain": [
       "<IPython.core.display.Latex object>"
      ]
     },
     "metadata": {},
     "output_type": "display_data"
    },
    {
     "data": {
      "text/markdown": [
       "## Step 1"
      ],
      "text/plain": [
       "<IPython.core.display.Markdown object>"
      ]
     },
     "metadata": {},
     "output_type": "display_data"
    },
    {
     "data": {
      "text/latex": [
       "$$ v: \\left[\\begin{matrix}4.0\\\\2.0\\end{matrix}\\right] $$"
      ],
      "text/plain": [
       "<IPython.core.display.Latex object>"
      ]
     },
     "metadata": {},
     "output_type": "display_data"
    },
    {
     "data": {
      "text/latex": [
       "Base selection : $ \n",
       "\\left[\\begin{matrix}2\\\\3\\end{matrix}\\right] $"
      ],
      "text/plain": [
       "<IPython.core.display.Latex object>"
      ]
     },
     "metadata": {},
     "output_type": "display_data"
    },
    {
     "data": {
      "text/latex": [
       "$\\displaystyle A_B : \\left[\\begin{matrix}1 & 2\\\\2 & -3\\end{matrix}\\right]$"
      ],
      "text/plain": [
       "<IPython.core.display.Math object>"
      ]
     },
     "metadata": {},
     "output_type": "display_data"
    },
    {
     "data": {
      "text/latex": [
       "$$ A_B^{−1}: \\left[\\begin{matrix}0.429 & 0.286\\\\0.286 & -0.143\\end{matrix}\\right] $$"
      ],
      "text/plain": [
       "<IPython.core.display.Latex object>"
      ]
     },
     "metadata": {},
     "output_type": "display_data"
    },
    {
     "data": {
      "text/markdown": [
       "## Step 2"
      ],
      "text/plain": [
       "<IPython.core.display.Markdown object>"
      ]
     },
     "metadata": {},
     "output_type": "display_data"
    },
    {
     "data": {
      "text/latex": [
       "$$ u = c*A_B^{-1} = \\left[\\begin{matrix}1.143 & 0.429\\end{matrix}\\right] = \\left[\\begin{matrix}2 & 1\\end{matrix}\\right] * \\left[\\begin{matrix}0.429 & 0.286\\\\0.286 & -0.143\\end{matrix}\\right] $$"
      ],
      "text/plain": [
       "<IPython.core.display.Latex object>"
      ]
     },
     "metadata": {},
     "output_type": "display_data"
    },
    {
     "data": {
      "text/markdown": [
       "## Step 3"
      ],
      "text/plain": [
       "<IPython.core.display.Markdown object>"
      ]
     },
     "metadata": {},
     "output_type": "display_data"
    },
    {
     "data": {
      "text/latex": [
       "All $ u $ are bigger than $ 0 $"
      ],
      "text/plain": [
       "<IPython.core.display.Latex object>"
      ]
     },
     "metadata": {},
     "output_type": "display_data"
    },
    {
     "data": {
      "text/latex": [
       "$$ u >= 0 $$  $$ f(v) = c*v = \\left[\\begin{matrix}2 & 1\\end{matrix}\\right]*\\left[\\begin{matrix}4.0\\\\2.0\\end{matrix}\\right] = \\left[\\begin{matrix}10.0\\end{matrix}\\right] $$"
      ],
      "text/plain": [
       "<IPython.core.display.Latex object>"
      ]
     },
     "metadata": {},
     "output_type": "display_data"
    },
    {
     "data": {
      "text/latex": [
       "Optimum is Point $ \\left[\\begin{matrix}4.0\\\\2.0\\end{matrix}\\right] $ with cost $ \\left[\\begin{matrix}10.0\\end{matrix}\\right] $"
      ],
      "text/plain": [
       "<IPython.core.display.Latex object>"
      ]
     },
     "metadata": {},
     "output_type": "display_data"
    },
    {
     "name": "stdout",
     "output_type": "stream",
     "text": [
      "Finished\n"
     ]
    }
   ],
   "source": [
    "np.set_printoptions(suppress=True)\n",
    "init_printing() \n",
    "\n",
    "\n",
    "A = np.array([[-1,1],[1,2],[2,-3],[-1,0],[0,-1]])\n",
    "b = np.array([1,8,2,0,0]).reshape(-1, 1)\n",
    "c = np.array([2,1]).reshape(1, -1)\n",
    "\n",
    "start = np.array([2,3]).reshape(1, -1)\n",
    "s = Simplex(A, b, c, start)\n",
    "s.run()"
   ]
  },
  {
   "cell_type": "markdown",
   "id": "dd2f2614-f684-4e53-a982-0cb6d1e74892",
   "metadata": {},
   "source": [
    "# Optimization"
   ]
  },
  {
   "cell_type": "code",
   "execution_count": 18,
   "id": "6fa759e4-b980-4a47-b397-66db402b1816",
   "metadata": {},
   "outputs": [],
   "source": [
    "from scripts.Newton_GradDesc import OptimizLibrary\n",
    "import numpy as np\n",
    "from sympy import *\n",
    "\n",
    "\n",
    "x, y = symbols('x y')\n",
    "# Function\n",
    "fun = (2*x - y**2)**2+(y-2-x)**2\n",
    "\n",
    "# Starting point\n",
    "x0 = np.array([0, 0])"
   ]
  },
  {
   "cell_type": "code",
   "execution_count": 19,
   "id": "6fa2a760-5ac8-4a6c-9967-e1431e215c1c",
   "metadata": {},
   "outputs": [],
   "source": [
    "df_x = fun.diff(x)\n",
    "df_y = fun.diff(y)\n",
    "df2_xx = df_x.diff(x)\n",
    "df2_xy = df_x.diff(y)\n",
    "df2_yx = df_y.diff(x)\n",
    "df2_yy = df_y.diff(y)\n",
    "\n",
    "def f(point):\n",
    "    return float(fun.evalf(subs={x: point[0], y: point[1]}))\n",
    "\n",
    "\n",
    "def dx(point):\n",
    "    return float(df_x.evalf(subs={x: point[0], y: point[1]}))\n",
    "\n",
    "\n",
    "def dy(point):\n",
    "    return float(df_y.evalf(subs={x: point[0], y: point[1]}))\n",
    "\n",
    "\n",
    "def dxdx(point):\n",
    "    return float(df2_xx.evalf(subs={x: point[0], y: point[1]}))\n",
    "\n",
    "\n",
    "def dydy(point):\n",
    "    return float(df2_yy.evalf(subs={x: point[0], y: point[1]}))\n",
    "\n",
    "\n",
    "def dxdy(point):\n",
    "    return float(df2_xy.evalf(subs={x: point[0], y: point[1]}))"
   ]
  },
  {
   "cell_type": "code",
   "execution_count": 20,
   "id": "c3b4b655-1810-4849-bd1b-52165abae1e4",
   "metadata": {},
   "outputs": [],
   "source": [
    "opt = OptimizLibrary(x0=x0, f=f, dx=dx, dy=dy, dxdx=dxdx, dydy=dydy, dxdy=dxdy)"
   ]
  },
  {
   "cell_type": "code",
   "execution_count": 21,
   "id": "4af7845c-5104-42fd-9798-b39107761f80",
   "metadata": {},
   "outputs": [
    {
     "data": {
      "image/png": "[encoded data removed]",
      "text/latex": [
       "$\\displaystyle \\left(2 x - y^{2}\\right)^{2} + \\left(- x + y - 2\\right)^{2}$"
      ],
      "text/plain": [
       "          2                \n",
       "⎛       2⎞                2\n",
       "⎝2⋅x - y ⎠  + (-x + y - 2) "
      ]
     },
     "metadata": {},
     "output_type": "display_data"
    },
    {
     "name": "stdout",
     "output_type": "stream",
     "text": [
      "10*x - 4*y**2 - 2*y + 4\n",
      "-2*x - 4*y*(2*x - y**2) + 2*y - 4\n",
      "10\n",
      "-8*x + 12*y**2 + 2\n",
      "-8*y - 2\n",
      "-8*y - 2\n",
      "\n",
      "\n",
      "Gradient Descent:\n",
      "β = 1.0 = 1:\n",
      "([0 0] - 1.0 * [ 4. -4.]) = [-4.  4.]\n",
      "612.0 !< 4.0\n",
      "\n",
      "β = 0.5 = 1/2:\n",
      "([0 0] - 0.5 * [ 4. -4.]) = [-2.  2.]\n",
      "68.0 !< 4.0\n",
      "\n",
      "β = 0.25 = 1/4:\n",
      "([0 0] - 0.25 * [ 4. -4.]) = [-1.  1.]\n",
      "9.0 !< 4.0\n",
      "\n",
      "β = 0.125 = 1/8:\n",
      "([0 0] - 0.125 * [ 4. -4.]) = [-0.5  0.5]\n",
      "2.5625 !< 4.0\n",
      "\n",
      "2.5625 < 4.0 done!\n",
      "x_1 = x_0 - β * ∇_f(x_0) =\n",
      "= ([0 0] - 0.125 * [ 4. -4.])\n",
      "= [-0.5  0.5]\n",
      "Result is (x_i y_i)^2 = [-0.5  0.5]^T with function value = 2.5625\n"
     ]
    },
    {
     "data": {
      "text/plain": [
       "array([-0.5,  0.5])"
      ]
     },
     "execution_count": 21,
     "metadata": {},
     "output_type": "execute_result"
    }
   ],
   "source": [
    "\"\"\"\n",
    "Gradient Descent\n",
    "mode: step(always needed), parabola\n",
    "\"\"\"\n",
    "display(fun)\n",
    "print(df_x)\n",
    "print(df_y)\n",
    "print(df2_xx)\n",
    "print(df2_yy)\n",
    "print(df2_xy)\n",
    "print(df2_yx)\n",
    "\n",
    "print(\"\\n\\nGradient Descent:\")\n",
    "opt.grad_descent(n=1, mode=\"step\")"
   ]
  },
  {
   "cell_type": "code",
   "execution_count": 22,
   "id": "d5ffcd8b-01db-48e4-a010-7a26537b4d4f",
   "metadata": {},
   "outputs": [
    {
     "name": "stdout",
     "output_type": "stream",
     "text": [
      "\n",
      "\n",
      "Gradient Descent with parabola fitting:\n",
      "β = 1.0 = 1:\n",
      "([0 0] - 1.0 * [ 4. -4.]) = [-4.  4.]\n",
      "612.0 !< 4.0\n",
      "\n",
      "β = 0.5 = 1/2:\n",
      "([0 0] - 0.5 * [ 4. -4.]) = [-2.  2.]\n",
      "68.0 !< 4.0\n",
      "\n",
      "β = 0.25 = 1/4:\n",
      "([0 0] - 0.25 * [ 4. -4.]) = [-1.  1.]\n",
      "9.0 !< 4.0\n",
      "\n",
      "β = 0.125 = 1/8:\n",
      "([0 0] - 0.125 * [ 4. -4.]) = [-0.5  0.5]\n",
      "2.5625 !< 4.0\n",
      "\n",
      "2.5625 < 4.0 done!\n",
      "x_1 = x_0 - β * ∇_f(x_0) =\n",
      "= ([0 0] - 0.125 * [ 4. -4.])\n",
      "= [-0.5  0.5]\n",
      "Result is (x_i y_i)^2 = [-0.5  0.5]^T with function value = 2.5625\n",
      "\n",
      "Parabola fitting\n",
      "P0 = self.f([0 0] - (0 * 0.125) * [ 4. -4.]) = 4.0\n",
      "PB = self.f([0 0] - 0.125 * [ 4. -4.]) = 2.5625\n",
      "P2B = self.f([0 0] - (2 * 0.125) * [ 4. -4.]) = 9.0\n",
      "\n",
      "β^* = 0.08531746031746032 = (0.125 / 2) * (3 * 4.0 - 4 * 2.5625 + 9.0) / (4.0 - 2 * 2.5625 + 9.0)\n",
      "\n",
      "x_1 = x_0 - β^* * ∇_f(x_0) =\n",
      "= ([0 0] - 0.08531746031746032 * [ 4. -4.]) = [-0.34126984  0.34126984]\n",
      "Result is (x_i y_i)^2 = [-0.34126984  0.34126984]^T with function value = 2.374110337891397\n"
     ]
    },
    {
     "data": {
      "text/plain": [
       "array([-0.34126984,  0.34126984])"
      ]
     },
     "execution_count": 22,
     "metadata": {},
     "output_type": "execute_result"
    }
   ],
   "source": [
    "print(\"\\n\\nGradient Descent with parabola fitting:\")\n",
    "opt.grad_descent(n=1, mode=\"parabola\")"
   ]
  },
  {
   "cell_type": "code",
   "execution_count": 23,
   "id": "8f105548-2180-4a42-9576-be9d56dff114",
   "metadata": {},
   "outputs": [
    {
     "name": "stdout",
     "output_type": "stream",
     "text": [
      "\n",
      "\n",
      "Newton:\n",
      "Initialize x_0 = [0 0]\n",
      "Iteration 0\n",
      "x_1 = x_0 - H_f([0 0])^-1 * ∇_f(x_0) =\n",
      "= ([0 0] - [[0.125 0.125]\n",
      " [0.125 0.625]] * [ 4. -4.]) \n",
      "= [-0.  2.]\n",
      "Result is (x_i y_i)^2 = [-0.  2.]^T\n"
     ]
    },
    {
     "data": {
      "text/plain": [
       "array([-0.,  2.])"
      ]
     },
     "execution_count": 23,
     "metadata": {},
     "output_type": "execute_result"
    }
   ],
   "source": [
    "\"\"\"\n",
    "Newton\n",
    "Only for 1 or 2 dimemsions\n",
    "\"\"\"\n",
    "#display(hessian(fun, [x, y]).subs(x,0).subs(y,0).inv())\n",
    "print(\"\\n\\nNewton:\")\n",
    "opt.newton(n=1, dim=2)  # Only for 1 or 2 dim"
   ]
  },
  {
   "cell_type": "code",
   "execution_count": 25,
   "id": "49d7c99b-5808-4d99-8f9c-7c73834d6b70",
   "metadata": {},
   "outputs": [
    {
     "name": "stdout",
     "output_type": "stream",
     "text": [
      "Broyden:\n",
      "Initialize x_0 = [0 0]\n",
      "First iteration with Newton method\n",
      "x_1 = x_0 - H_f([0 0])^-1 * ∇_f(x_0) =\n",
      "= ([0 0] - [[0.125 0.125]\n",
      " [0.125 0.625]] * [ 4. -4.]) \n",
      "= [-0.  2.]\n",
      "Broyden's method iteration 1\n",
      "A_0^-1 = [[0.125 0.125]\n",
      " [0.125 0.625]]\n",
      "g_1 = ∇_f(x_1) - ∇_f(x_0) = [-16.  32.] - [ 4. -4.] = [-20.  36.]\n",
      "d_1 = x_1 - x_0 = [-0.  2.] - [0 0] = [-0.  2.]\n",
      "A_2^-1 = A_1^-1 - (A_1^-1 * g_1 - d_1) * d_1^T * A_1^-1 / (d_1^T * A_1^-1 * g_1) = [[0.1125 0.0625]\n",
      " [0.0125 0.0625]]\n",
      "x_2 = x_1 - A_1^-1 * ∇_f(x_1) = [-0.2  0.2] with function value f(x_2) = 2.753599999999997\n"
     ]
    }
   ],
   "source": [
    "\"\"\"\n",
    "Broyden\n",
    "Note that n=1 means 2 iterations (first iteration is Newton and second is Broyden)\n",
    "\"\"\"\n",
    "print(\"Broyden:\")\n",
    "opt.broyden(n=1)"
   ]
  },
  {
   "cell_type": "code",
   "execution_count": 11,
   "id": "ab8b82bc-18db-4d6f-9b2c-909754eba919",
   "metadata": {},
   "outputs": [
    {
     "name": "stdout",
     "output_type": "stream",
     "text": [
      "\n",
      "\n",
      "Aitken:\n",
      "Result for y_i is = 1.2195121951219512\n"
     ]
    }
   ],
   "source": [
    "\"\"\"\n",
    "Aitken’s acceleration method\n",
    "See example here to get x_i, x_i1, x_i2 correct:\n",
    "i   x^i   Aitken y^1\n",
    "0   100   -\n",
    "1   10    -\n",
    "2   2     1.21951\n",
    "3   0.5   0.15384\n",
    "\"\"\"\n",
    "print(\"\\n\\nAitken:\")\n",
    "opt.aitken(x_i=2, x_i1=10, x_i2=100)"
   ]
  }
 ],
 "metadata": {
  "kernelspec": {
   "display_name": "Python 3 (ipykernel)",
   "language": "python",
   "name": "python3"
  },
  "language_info": {
   "codemirror_mode": {
    "name": "ipython",
    "version": 3
   },
   "file_extension": ".py",
   "mimetype": "text/x-python",
   "name": "python",
   "nbconvert_exporter": "python",
   "pygments_lexer": "ipython3",
   "version": "3.10.8"
  }
 },
 "nbformat": 4,
 "nbformat_minor": 5
}
